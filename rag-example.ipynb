{
 "cells": [
  {
   "cell_type": "code",
   "execution_count": 1,
   "metadata": {},
   "outputs": [],
   "source": [
    "from citation_engine import create_index, create_query_engine, get_final_response"
   ]
  },
  {
   "cell_type": "code",
   "execution_count": 6,
   "metadata": {},
   "outputs": [],
   "source": [
    "def get_index_vigente(model_name):\n",
    "    return create_index(documents_path = \"data/documents/\", persist_dir = \"./citation\", model_name=model_name)\n",
    "\n",
    "\n",
    "def get_index_propuesta(model_name):\n",
    "    return create_index(documents_path = \"data/documents_propuesta\", persist_dir = \"./citation_propuesta\", model_name=model_name)\n",
    "\n",
    "def stream_llamaindex_response(response):\n",
    "    result = \"\"\n",
    "    for text in response.response_gen:\n",
    "        result += text\n",
    "    return result"
   ]
  },
  {
   "cell_type": "code",
   "execution_count": 3,
   "metadata": {},
   "outputs": [],
   "source": [
    "query_engine_vigente_gpt3 = create_query_engine(get_index_vigente(model_name='gpt-3.5-turbo'))"
   ]
  },
  {
   "cell_type": "code",
   "execution_count": 4,
   "metadata": {},
   "outputs": [],
   "source": [
    "prompt = 'El banco central'"
   ]
  },
  {
   "cell_type": "code",
   "execution_count": 5,
   "metadata": {},
   "outputs": [],
   "source": [
    "response_vigente = query_engine_vigente_gpt3.query(prompt)"
   ]
  },
  {
   "cell_type": "code",
   "execution_count": 7,
   "metadata": {},
   "outputs": [
    {
     "data": {
      "text/plain": [
       "'El Banco Central es un organismo autónomo, con patrimonio propio, de carácter técnico [1]. Solo puede realizar operaciones con instituciones financieras, sean públicas o privadas, y en situaciones excepcionales y transitorias, puede comprar y vender instrumentos de deuda emitidos por el Estado [2]. No puede financiar gastos públicos o préstamos con créditos directos o indirectos del Banco Central [2]. Además, el Banco Central no puede establecer normas o requisitos diferentes o discriminatorios para personas, instituciones o entidades que realicen operaciones de la misma naturaleza [2]. La reforma constitucional al artículo 109 del Banco Central entrará en vigencia una vez que se promulgue la ley que introduce modificaciones a la ley N° 18.840, Orgánica Constitucional del Banco Central de Chile [3].'"
      ]
     },
     "execution_count": 7,
     "metadata": {},
     "output_type": "execute_result"
    }
   ],
   "source": [
    "stream_llamaindex_response(response_vigente)"
   ]
  }
 ],
 "metadata": {
  "kernelspec": {
   "display_name": "rag-constitucion-chile",
   "language": "python",
   "name": "python3"
  },
  "language_info": {
   "codemirror_mode": {
    "name": "ipython",
    "version": 3
   },
   "file_extension": ".py",
   "mimetype": "text/x-python",
   "name": "python",
   "nbconvert_exporter": "python",
   "pygments_lexer": "ipython3",
   "version": "3.10.13"
  }
 },
 "nbformat": 4,
 "nbformat_minor": 2
}
