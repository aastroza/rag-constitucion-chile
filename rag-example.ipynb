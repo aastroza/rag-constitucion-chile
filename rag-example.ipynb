{
 "cells": [
  {
   "cell_type": "code",
   "execution_count": 11,
   "metadata": {},
   "outputs": [],
   "source": [
    "from citation_engine import create_index, create_query_engine, get_final_response\n",
    "from IPython.display import Markdown, display"
   ]
  },
  {
   "cell_type": "code",
   "execution_count": 6,
   "metadata": {},
   "outputs": [],
   "source": [
    "def get_index_vigente(model_name):\n",
    "    return create_index(documents_path = \"data/documents/\", persist_dir = \"./citation\", model_name=model_name)\n",
    "\n",
    "\n",
    "def get_index_propuesta(model_name):\n",
    "    return create_index(documents_path = \"data/documents_propuesta\", persist_dir = \"./citation_propuesta\", model_name=model_name)\n",
    "\n",
    "def stream_llamaindex_response(response):\n",
    "    result = \"\"\n",
    "    for text in response.response_gen:\n",
    "        result += text\n",
    "    return result"
   ]
  },
  {
   "cell_type": "code",
   "execution_count": 3,
   "metadata": {},
   "outputs": [],
   "source": [
    "query_engine_vigente_gpt3 = create_query_engine(get_index_vigente(model_name='gpt-3.5-turbo'))"
   ]
  },
  {
   "cell_type": "code",
   "execution_count": 4,
   "metadata": {},
   "outputs": [],
   "source": [
    "prompt = 'El banco central'"
   ]
  },
  {
   "cell_type": "code",
   "execution_count": 5,
   "metadata": {},
   "outputs": [],
   "source": [
    "response_vigente = query_engine_vigente_gpt3.query(prompt)"
   ]
  },
  {
   "cell_type": "code",
   "execution_count": 7,
   "metadata": {},
   "outputs": [
    {
     "data": {
      "text/plain": [
       "'El Banco Central es un organismo autónomo, con patrimonio propio, de carácter técnico [1]. Solo puede realizar operaciones con instituciones financieras, sean públicas o privadas, y en situaciones excepcionales y transitorias, puede comprar y vender instrumentos de deuda emitidos por el Estado [2]. No puede financiar gastos públicos o préstamos con créditos directos o indirectos del Banco Central [2]. Además, el Banco Central no puede establecer normas o requisitos diferentes o discriminatorios para personas, instituciones o entidades que realicen operaciones de la misma naturaleza [2]. La reforma constitucional al artículo 109 del Banco Central entrará en vigencia una vez que se promulgue la ley que introduce modificaciones a la ley N° 18.840, Orgánica Constitucional del Banco Central de Chile [3].'"
      ]
     },
     "execution_count": 7,
     "metadata": {},
     "output_type": "execute_result"
    }
   ],
   "source": [
    "stream_llamaindex_response(response_vigente)"
   ]
  },
  {
   "cell_type": "code",
   "execution_count": 8,
   "metadata": {},
   "outputs": [],
   "source": [
    "# define prompt viewing function\n",
    "def display_prompt_dict(prompts_dict):\n",
    "    for k, p in prompts_dict.items():\n",
    "        text_md = f\"**Prompt Key**: {k}<br>\" f\"**Text:** <br>\"\n",
    "        display(Markdown(text_md))\n",
    "        print(p.get_template())\n",
    "        display(Markdown(\"<br><br>\"))"
   ]
  },
  {
   "cell_type": "code",
   "execution_count": 9,
   "metadata": {},
   "outputs": [],
   "source": [
    "prompts_dict = query_engine_vigente_gpt3.get_prompts()"
   ]
  },
  {
   "cell_type": "code",
   "execution_count": 12,
   "metadata": {},
   "outputs": [
    {
     "data": {
      "text/markdown": [
       "**Prompt Key**: response_synthesizer:text_qa_template<br>**Text:** <br>"
      ],
      "text/plain": [
       "<IPython.core.display.Markdown object>"
      ]
     },
     "metadata": {},
     "output_type": "display_data"
    },
    {
     "name": "stdout",
     "output_type": "stream",
     "text": [
      "Please provide an answer based solely on the provided sources. When referencing information from a source, cite the appropriate source(s) using their corresponding numbers. Every answer should include at least one source citation. Only cite a source when you are explicitly referencing it. If none of the sources are helpful, you should indicate that. For example:\n",
      "Source 1:\n",
      "The sky is red in the evening and blue in the morning.\n",
      "Source 2:\n",
      "Water is wet when the sky is red.\n",
      "Query: When is water wet?\n",
      "Answer: Water will be wet when the sky is red [2], which occurs in the evening [1].\n",
      "Now it's your turn. Below are several numbered sources of information:\n",
      "------\n",
      "{context_str}\n",
      "------\n",
      "Query: {query_str}\n",
      "Answer: \n"
     ]
    },
    {
     "data": {
      "text/markdown": [
       "<br><br>"
      ],
      "text/plain": [
       "<IPython.core.display.Markdown object>"
      ]
     },
     "metadata": {},
     "output_type": "display_data"
    },
    {
     "data": {
      "text/markdown": [
       "**Prompt Key**: response_synthesizer:refine_template<br>**Text:** <br>"
      ],
      "text/plain": [
       "<IPython.core.display.Markdown object>"
      ]
     },
     "metadata": {},
     "output_type": "display_data"
    },
    {
     "name": "stdout",
     "output_type": "stream",
     "text": [
      "Please provide an answer based solely on the provided sources. When referencing information from a source, cite the appropriate source(s) using their corresponding numbers. Every answer should include at least one source citation. Only cite a source when you are explicitly referencing it. If none of the sources are helpful, you should indicate that. For example:\n",
      "Source 1:\n",
      "The sky is red in the evening and blue in the morning.\n",
      "Source 2:\n",
      "Water is wet when the sky is red.\n",
      "Query: When is water wet?\n",
      "Answer: Water will be wet when the sky is red [2], which occurs in the evening [1].\n",
      "Now it's your turn. We have provided an existing answer: {existing_answer}Below are several numbered sources of information. Use them to refine the existing answer. If the provided sources are not helpful, you will repeat the existing answer.\n",
      "Begin refining!\n",
      "------\n",
      "{context_msg}\n",
      "------\n",
      "Query: {query_str}\n",
      "Answer: \n"
     ]
    },
    {
     "data": {
      "text/markdown": [
       "<br><br>"
      ],
      "text/plain": [
       "<IPython.core.display.Markdown object>"
      ]
     },
     "metadata": {},
     "output_type": "display_data"
    }
   ],
   "source": [
    "display_prompt_dict(prompts_dict)"
   ]
  }
 ],
 "metadata": {
  "kernelspec": {
   "display_name": "rag-constitucion-chile",
   "language": "python",
   "name": "python3"
  },
  "language_info": {
   "codemirror_mode": {
    "name": "ipython",
    "version": 3
   },
   "file_extension": ".py",
   "mimetype": "text/x-python",
   "name": "python",
   "nbconvert_exporter": "python",
   "pygments_lexer": "ipython3",
   "version": "3.10.13"
  }
 },
 "nbformat": 4,
 "nbformat_minor": 2
}
